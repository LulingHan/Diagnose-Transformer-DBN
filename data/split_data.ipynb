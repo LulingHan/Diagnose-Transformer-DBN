{
 "cells": [
  {
   "cell_type": "code",
   "execution_count": 3,
   "metadata": {
    "collapsed": true
   },
   "outputs": [],
   "source": [
    "from openpyxl import Workbook\n",
    "from openpyxl import load_workbook\n",
    "import numpy as np\n",
    "from random import shuffle"
   ]
  },
  {
   "cell_type": "code",
   "execution_count": null,
   "metadata": {
    "collapsed": true
   },
   "outputs": [],
   "source": [
    "# Read data"
   ]
  },
  {
   "cell_type": "code",
   "execution_count": 4,
   "metadata": {
    "collapsed": true
   },
   "outputs": [],
   "source": [
    "wb2 = load_workbook('total-v7.xlsx')"
   ]
  },
  {
   "cell_type": "code",
   "execution_count": 5,
   "metadata": {
    "collapsed": false
   },
   "outputs": [],
   "source": [
    "# Read input and label to total_data and total_label\n",
    "total_data = np.empty([0,9])\n",
    "total_label = []\n",
    "subset = ['LT', 'MT', 'HT', 'PD']\n",
    "for fault in subset:\n",
    "    data = wb2[fault]\n",
    "    tmp = np.array([[entry.value for entry in x] for x in data])\n",
    "    total_data = np.vstack([total_data, tmp])\n",
    "    _ = [total_label.append(fault) for x in data]\n",
    "        \n",
    "        "
   ]
  },
  {
   "cell_type": "code",
   "execution_count": 6,
   "metadata": {
    "collapsed": true
   },
   "outputs": [],
   "source": [
    "# Output files\n",
    "train_labels = open('data/train_labels_sub.txt', 'w')\n",
    "test_labels = open('data/test_labels_sub.txt', 'w')"
   ]
  },
  {
   "cell_type": "code",
   "execution_count": 8,
   "metadata": {
    "collapsed": false
   },
   "outputs": [],
   "source": [
    "# Shuffle the data and split them\n",
    "label_map = {'LT':\"1 0 0 0\", \"MT\":\"0 1 0 0\", \"HT\":\"0 0 1 0\", \"PD\":\"0 0 0 1\"}\n",
    "scale = len(total_label)\n",
    "trunct = int(0.7 * scale)   # 0.7 represents the ratio between train and test\n",
    "index = range(scale)\n",
    "shuffle(index)\n",
    "np.savetxt('data/train_dataset_sub.txt', total_data[index[:trunct]], fmt='%.5f')\n",
    "np.savetxt('data/test_dataset_sub.txt', total_data[index[trunct:]], fmt='%.5f')\n",
    "for i in range(scale):\n",
    "    if i < trunct:\n",
    "        train_labels.write(label_map[total_label[index[i]]] + '\\n')\n",
    "    else:\n",
    "        test_labels.write(label_map[total_label[index[i]]] + '\\n')\n",
    "train_labels.close()\n",
    "test_labels.close()\n",
    "        "
   ]
  },
  {
   "cell_type": "code",
   "execution_count": null,
   "metadata": {
    "collapsed": true
   },
   "outputs": [],
   "source": []
  }
 ],
 "metadata": {
  "anaconda-cloud": {},
  "kernelspec": {
   "display_name": "Python [Root]",
   "language": "python",
   "name": "Python [Root]"
  },
  "language_info": {
   "codemirror_mode": {
    "name": "ipython",
    "version": 2
   },
   "file_extension": ".py",
   "mimetype": "text/x-python",
   "name": "python",
   "nbconvert_exporter": "python",
   "pygments_lexer": "ipython2",
   "version": "2.7.12"
  }
 },
 "nbformat": 4,
 "nbformat_minor": 0
}
